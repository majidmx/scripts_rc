{
 "cells": [
  {
   "cell_type": "markdown",
   "metadata": {},
   "source": [
    "# pdf_return_and_rental_date_in_a_box(table)"
   ]
  },
  {
   "cell_type": "code",
   "execution_count": 112,
   "metadata": {},
   "outputs": [
    {
     "data": {
      "text/plain": [
       "0                                  CUSTOMER INFORMATION\n",
       "1     PRIME DELIVERY LLC JPR             \\n         ...\n",
       "2                                                      \n",
       "3                                                      \n",
       "4                                                      \n",
       "5                                        #1 Club Number\n",
       "6                                    RENTAL INFORMATION\n",
       "7     Reservation Number \\n \\n                    Z0...\n",
       "8                 Car Class \\n \\n                    N4\n",
       "9     Rental City / Location \\n \\n         JERSEY NJ...\n",
       "10      Rental Date \\n \\n                    08/08/2019\n",
       "11           Rental Time \\n \\n                    11:28\n",
       "Name: 0, dtype: object"
      ]
     },
     "execution_count": 112,
     "metadata": {},
     "output_type": "execute_result"
    }
   ],
   "source": [
    "import camelot\n",
    "import matplotlib.pyplot as plt\n",
    "tables = camelot.read_pdf(r'C:\\Users\\majidmm\\Documents\\MTI and RC\\RC\\INPUT FILES\\Hertz+Rental.pdf',pages='1',flavor='lattice',split_text=True)\n",
    "# tables[0].df\n",
    "# tables.export('foo.csv', f='csv', compress=True) # json, excel, html\n",
    "a=tables[0].df\n",
    "Rental Date = a[0][10]\n",
    "Return Date\n",
    "\n",
    "# camelot.plot(tables[0], kind='joint')\n",
    "# plt.show()\n",
    "\n",
    "\n",
    "# tables.export(r'C:\\Users\\majidmm\\Documents\\MTI and RC\\RC\\INPUT FILES\\abc.csv', f='csv')\n"
   ]
  },
  {
   "cell_type": "code",
   "execution_count": null,
   "metadata": {},
   "outputs": [],
   "source": []
  }
 ],
 "metadata": {
  "kernelspec": {
   "display_name": "Python 3",
   "language": "python",
   "name": "python3"
  },
  "language_info": {
   "codemirror_mode": {
    "name": "ipython",
    "version": 3
   },
   "file_extension": ".py",
   "mimetype": "text/x-python",
   "name": "python",
   "nbconvert_exporter": "python",
   "pygments_lexer": "ipython3",
   "version": "3.7.4"
  }
 },
 "nbformat": 4,
 "nbformat_minor": 2
}
