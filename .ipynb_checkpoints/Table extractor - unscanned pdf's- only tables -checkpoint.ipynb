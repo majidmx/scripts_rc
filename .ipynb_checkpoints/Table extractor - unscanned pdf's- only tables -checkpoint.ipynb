{
 "cells": [
  {
   "cell_type": "markdown",
   "metadata": {},
   "source": [
    "# pdf_return_and_rental_date_in_a_box(table)"
   ]
  },
  {
   "cell_type": "code",
   "execution_count": 113,
   "metadata": {},
   "outputs": [
    {
     "name": "stdout",
     "output_type": "stream",
     "text": [
      "Rental Date \n",
      " \n",
      "                    08/08/2019\n",
      "Projected Return Date \n",
      " \n",
      "             07/03/2020\n"
     ]
    }
   ],
   "source": [
    "import camelot\n",
    "import matplotlib.pyplot as plt\n",
    "tables = camelot.read_pdf(r'C:\\Users\\majidmm\\Documents\\MTI and RC\\RC\\INPUT FILES\\Hertz+Rental.pdf',pages='1',flavor='lattice',split_text=True)\n",
    "# tables[0].df\n",
    "# tables.export('foo.csv', f='csv', compress=True) # json, excel, html\n",
    "a=tables[0].df\n",
    "rental_date = a[0][10]\n",
    "return_date = a[1][10]\n",
    "print(rental_date)\n",
    "print(return_date)\n",
    "# camelot.plot(tables[0], kind='joint')\n",
    "# plt.show()\n",
    "\n",
    "\n",
    "# tables.export(r'C:\\Users\\majidmm\\Documents\\MTI and RC\\RC\\INPUT FILES\\abc.csv', f='csv')\n"
   ]
  },
  {
   "cell_type": "code",
   "execution_count": null,
   "metadata": {},
   "outputs": [],
   "source": []
  }
 ],
 "metadata": {
  "kernelspec": {
   "display_name": "Python 3",
   "language": "python",
   "name": "python3"
  },
  "language_info": {
   "codemirror_mode": {
    "name": "ipython",
    "version": 3
   },
   "file_extension": ".py",
   "mimetype": "text/x-python",
   "name": "python",
   "nbconvert_exporter": "python",
   "pygments_lexer": "ipython3",
   "version": "3.7.4"
  }
 },
 "nbformat": 4,
 "nbformat_minor": 2
}
