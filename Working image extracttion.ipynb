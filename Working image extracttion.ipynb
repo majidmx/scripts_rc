{
 "cells": [
  {
   "cell_type": "code",
   "execution_count": 2,
   "metadata": {},
   "outputs": [
    {
     "name": "stdout",
     "output_type": "stream",
     "text": [
      "Hert Z Rental Record# M84249782 ’\n",
      "SYNERGY AMAZINO :\n",
      "Vehicle: 2019 PROMASTER ' !\n",
      "License:CA 94144H2 4\n",
      "Rental Rate* 6 @ $1170.00 monthly T$ 7020.00\n",
      "@$ 45.00exday T$ 4\n",
      "“Includes Unlimited Miles 7 7\n",
      "Additional Products ;\n",
      "Frequent Flyer Surcharge T$ 09 ’\n",
      "Fuel &Service $555 IMI $9.99 IGAL 24.0 TK CAP T$ a\n",
      "Service Charges/Taxes 7\n",
      "Vehicle License Fee Accepted@$ 1.70perday T$ 306.00\n",
      "Tax1 7.750% On Taxable Tt $ 7326.00 § 567.77 :\n",
      "Tax2 2.750% On Califomia Refueling § ,\n",
      "ADJUSTMENTS 2\n",
      "TOTAL ESTIMATED CHARGE $ 7893.77 .\n",
      "en) VAN FA i i oe\n",
      "_——s Credif Card Authorization AmountS = 1320.00 Re 2\n",
      "i _-_—__ Rented by The Hertz Corporation a ae\n",
      "—_— Venicie-01 198 1415421LocNum: CAIRVO8 _/0572408 ae A\n",
      "= | MilesOut 8595 Plan. RL Class: Né4 a\n",
      "Rental Location: IRVINEHLE Poe\n",
      "Rental Time: 08/19/19 at 5:22 PM a ee\n",
      "Return Location: VINE KLE\n",
      "———s Return Time: 02/15/20 at 2:00 PM\n",
      "|\n",
      "q Rental Extensions/Changes 1-800-654-4174\n",
      "Emergency Ro ad ‘Service 1-800-654-5060\n",
      "; For Explanation of Charges: WWW.HERTZ,COMICHARGEEXPLAINED\n",
      "Taxable charges are preceded ae PG10F 8#03PT\n"
     ]
    }
   ],
   "source": [
    "from PIL import Image\n",
    "import cv2 \n",
    "import pytesseract\n",
    "import re \n",
    "from pytesseract import Output\n",
    "\n",
    "tesseract_exe_path_installation=\"C:\\\\Users\\\\majidmm\\\\AppData\\\\Local\\\\Tesseract-OCR\\\\tesseract.exe\"\n",
    "pytesseract.pytesseract.tesseract_cmd=tesseract_exe_path_installation\n",
    "\n",
    "img = cv2.imread(r'C:\\Users\\majidmm\\Documents\\MTI and RC\\RC\\INPUT FILES\\Van.jpg')\n",
    "\n",
    "custom_config = r' --oem 3  --psm 6'\n",
    "\n",
    "t = pytesseract.image_to_string(img,config=custom_config)\n",
    "\n",
    "\n",
    "# d = pytesseract.image_to_data(img, output_type=Output.DICT)\n",
    "# print(d.keys())\n",
    "\n",
    "\n",
    "# n_boxes = len(d['text'])\n",
    "# for i in range(n_boxes):\n",
    "#     if int(d['conf'][i]) > 60:\n",
    "#         (x, y, w, h) = (d['left'][i], d['top'][i], d['width'][i], d['height'][i])\n",
    "#         img = cv2.rectangle(img, (x, y), (x + w, y + h), (0, 255, 0), 2)\n",
    "\n",
    "# cv2.imshow('img', img)\n",
    "# cv2.waitKey(0)\n",
    "\n",
    "print(t)"
   ]
  },
  {
   "cell_type": "code",
   "execution_count": 30,
   "metadata": {},
   "outputs": [
    {
     "name": "stdout",
     "output_type": "stream",
     "text": [
      "Rental Time: 08/19/19 at 5:22 PM\n",
      "Return Time: 02/15/20 at 2:00 PM\n",
      "License:CA 94144H2\n"
     ]
    }
   ],
   "source": [
    "license_number = t[80:98]\n",
    "rental_time = t[758:790]\n",
    "return_time = t[827:859]\n",
    "print(rental_time)\n",
    "print(return_time)\n",
    "print(license_number)\n",
    "# t.find(\"Return Time:\")"
   ]
  }
 ],
 "metadata": {
  "kernelspec": {
   "display_name": "Python 3",
   "language": "python",
   "name": "python3"
  },
  "language_info": {
   "codemirror_mode": {
    "name": "ipython",
    "version": 3
   },
   "file_extension": ".py",
   "mimetype": "text/x-python",
   "name": "python",
   "nbconvert_exporter": "python",
   "pygments_lexer": "ipython3",
   "version": "3.7.6"
  }
 },
 "nbformat": 4,
 "nbformat_minor": 2
}
